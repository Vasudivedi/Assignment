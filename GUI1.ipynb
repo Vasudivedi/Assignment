{
 "cells": [
  {
   "cell_type": "code",
   "execution_count": 2,
   "metadata": {},
   "outputs": [],
   "source": [
    "import tkinter"
   ]
  },
  {
   "cell_type": "code",
   "execution_count": 3,
   "metadata": {},
   "outputs": [],
   "source": [
    "window = tkinter.Tk()"
   ]
  },
  {
   "cell_type": "code",
   "execution_count": 4,
   "metadata": {},
   "outputs": [],
   "source": [
    "import tkinter\n",
    "window = tkinter.Tk()\n",
    "window.title('GUI')\n",
    "window.resizable()\n",
    "window.geometry('300x100')\n",
    "window.mainloop()"
   ]
  },
  {
   "cell_type": "code",
   "execution_count": 17,
   "metadata": {},
   "outputs": [],
   "source": [
    "window = tkinter.Tk()\n",
    "window.title('GUI')\n",
    "window.geometry('300x400')\n",
    "lbl = tkinter.Label(window,text='name',fg='red')\n",
    "lbl.place(x = 10,y = 10)\n",
    "window.mainloop()"
   ]
  },
  {
   "cell_type": "code",
   "execution_count": 1,
   "metadata": {},
   "outputs": [
    {
     "ename": "NameError",
     "evalue": "name 'tkinter' is not defined",
     "output_type": "error",
     "traceback": [
      "\u001b[1;31m---------------------------------------------------------------------------\u001b[0m",
      "\u001b[1;31mNameError\u001b[0m                                 Traceback (most recent call last)",
      "\u001b[1;32m~\\AppData\\Local\\Temp/ipykernel_22436/405523679.py\u001b[0m in \u001b[0;36m<module>\u001b[1;34m\u001b[0m\n\u001b[1;32m----> 1\u001b[1;33m \u001b[0mwindow\u001b[0m \u001b[1;33m=\u001b[0m \u001b[0mtkinter\u001b[0m\u001b[1;33m.\u001b[0m\u001b[0mTk\u001b[0m\u001b[1;33m(\u001b[0m\u001b[1;33m)\u001b[0m\u001b[1;33m\u001b[0m\u001b[1;33m\u001b[0m\u001b[0m\n\u001b[0m\u001b[0;32m      2\u001b[0m \u001b[0mwindow\u001b[0m\u001b[1;33m.\u001b[0m\u001b[0mtitle\u001b[0m\u001b[1;33m(\u001b[0m\u001b[1;34m'GUI'\u001b[0m\u001b[1;33m)\u001b[0m\u001b[1;33m\u001b[0m\u001b[1;33m\u001b[0m\u001b[0m\n\u001b[0;32m      3\u001b[0m \u001b[0mname_input\u001b[0m \u001b[1;33m=\u001b[0m \u001b[0mtkinter\u001b[0m\u001b[1;33m.\u001b[0m\u001b[0mEntry\u001b[0m\u001b[1;33m(\u001b[0m\u001b[1;33m)\u001b[0m\u001b[1;33m\u001b[0m\u001b[1;33m\u001b[0m\u001b[0m\n\u001b[0;32m      4\u001b[0m \u001b[0mname_input\u001b[0m\u001b[1;33m.\u001b[0m\u001b[0mplace\u001b[0m\u001b[1;33m(\u001b[0m\u001b[0mx\u001b[0m \u001b[1;33m=\u001b[0m \u001b[1;36m10\u001b[0m\u001b[1;33m,\u001b[0m \u001b[0my\u001b[0m \u001b[1;33m=\u001b[0m\u001b[1;36m20\u001b[0m\u001b[1;33m)\u001b[0m\u001b[1;33m\u001b[0m\u001b[1;33m\u001b[0m\u001b[0m\n\u001b[0;32m      5\u001b[0m \u001b[0mwindow\u001b[0m\u001b[1;33m.\u001b[0m\u001b[0mmainloop\u001b[0m\u001b[1;33m(\u001b[0m\u001b[1;33m)\u001b[0m\u001b[1;33m\u001b[0m\u001b[1;33m\u001b[0m\u001b[0m\n",
      "\u001b[1;31mNameError\u001b[0m: name 'tkinter' is not defined"
     ]
    }
   ],
   "source": [
    "window = tkinter.Tk()\n",
    "window.title('GUI')\n",
    "name_input = tkinter.Entry()\n",
    "name_input.place(x = 10, y =20)\n",
    "window.mainloop()"
   ]
  },
  {
   "cell_type": "code",
   "execution_count": 21,
   "metadata": {},
   "outputs": [],
   "source": [
    "window = tkinter.Tk()\n",
    "window.title('GUI')\n",
    "btn = tkinter.Button(window,text = 'submit')\n",
    "btn.place(x = 10 , y=10)\n",
    "window.mainloop()"
   ]
  },
  {
   "cell_type": "code",
   "execution_count": null,
   "metadata": {},
   "outputs": [],
   "source": [
    "window = tkinter.Tk()\n",
    "window.title('GUI')\n",
    "\n",
    "def btn_click():\n",
    "    data = name_input.get()\n",
    "    output_lbl['text'] = data\n",
    "    print(data)\n",
    "\n",
    "btn = tkinter.Button(window,text = 'submit')\n",
    "btn.place(x = 10 , y=10)\n",
    "window.mainloop()"
   ]
  },
  {
   "cell_type": "code",
   "execution_count": 25,
   "metadata": {},
   "outputs": [
    {
     "name": "stderr",
     "output_type": "stream",
     "text": [
      "Exception in Tkinter callback\n",
      "Traceback (most recent call last):\n",
      "  File \"c:\\Users\\ss507\\anaconda3\\lib\\tkinter\\__init__.py\", line 1892, in __call__\n",
      "    return self.func(*args)\n",
      "  File \"C:\\Users\\ss507\\AppData\\Local\\Temp/ipykernel_12652/1459891783.py\", line 22, in btn_click\n",
      "    data = name_input.get()\n",
      "  File \"c:\\Users\\ss507\\anaconda3\\lib\\tkinter\\__init__.py\", line 3043, in get\n",
      "    return self.tk.call(self._w, 'get')\n",
      "_tkinter.TclError: invalid command name \".!entry\"\n"
     ]
    }
   ],
   "source": [
    "import tkinter\n",
    "window = tkinter.Tk()\n",
    "window.title('GUI')\n",
    "\n",
    "\n",
    "lbl = tkinter.Label(window, text=\"Name\")\n",
    "\n",
    "\n",
    "# setting up cordinates to place label\n",
    "lbl.place(x=10, y=10)\n",
    "\n",
    "# add an input box\n",
    "name_input = tkinter.Entry()\n",
    "name_input.place(x=10, y=30)\n",
    "\n",
    "# add another label to display input value\n",
    "output_lbl = tkinter.Label(window, text=\"0\")\n",
    "output_lbl.place(x=10, y=80)\n",
    "\n",
    "# command/event\n",
    "def btn_click():\n",
    "    data = name_input.get()\n",
    "    output_lbl['text'] = data\n",
    "    print(data)\n",
    "\n",
    "# add a button\n",
    "btn = tkinter.Button(window, text=\"Submit\", command=btn_click)\n",
    "btn.place(x=10, y=50)\n",
    "\n",
    "# run the gui\n",
    "window.mainloop()"
   ]
  },
  {
   "cell_type": "code",
   "execution_count": 1,
   "metadata": {},
   "outputs": [
    {
     "name": "stdout",
     "output_type": "stream",
     "text": [
      "vasu\n"
     ]
    }
   ],
   "source": [
    "import tkinter\n",
    "window = tkinter.Tk()\n",
    "window.title('GUI')\n",
    "\n",
    "lbl = tkinter.Label(window,text = 'name')\n",
    "lbl.place(x = 10, y =10)\n",
    "\n",
    "name_input = tkinter.Entry()\n",
    "name_input.place(x = 10,y = 30)\n",
    "\n",
    "outlb = tkinter.Label(window,text = '0')\n",
    "outlb.place(x=10,y=50)\n",
    "\n",
    "def click():\n",
    "    data = name_input.get()\n",
    "    outlb['text'] = data\n",
    "    print(data)\n",
    "\n",
    "btn = tkinter.Button(window,text='submit',command = click)\n",
    "btn.place(x = 10 , y = 70)\n",
    "\n",
    "window.mainloop()"
   ]
  },
  {
   "cell_type": "code",
   "execution_count": 8,
   "metadata": {},
   "outputs": [],
   "source": [
    "from tkinter import messagebox\n",
    "window = tkinter.Tk()\n",
    "window.title('GUI')\n",
    "\n",
    "lbl = tkinter.Label(window, text = 'Name')\n",
    "lbl.place(x=10,y=10)\n",
    "\n",
    "name_input = tkinter.Entry()\n",
    "name_input.place(x=10,y=30)\n",
    "\n",
    "def click():\n",
    "    data = name_input.get()\n",
    "    if data:\n",
    "        if data.isalpha():\n",
    "            messagebox.showinfo('Sucess' , data)\n",
    "        else:\n",
    "                messagebox.showwarning('Invalid' , 'enter valid data')\n",
    "\n",
    "    else:\n",
    "        messagebox.showerror('Error' ,'input must be filled')\n",
    "\n",
    "\n",
    "b = tkinter.Button(window,text = 'submit', command = click)\n",
    "b.place(x=10,y=70)\n",
    "\n",
    "window.mainloop()"
   ]
  },
  {
   "cell_type": "code",
   "execution_count": 15,
   "metadata": {},
   "outputs": [
    {
     "name": "stderr",
     "output_type": "stream",
     "text": [
      "Exception in Tkinter callback\n",
      "Traceback (most recent call last):\n",
      "  File \"c:\\Users\\ss507\\anaconda3\\lib\\tkinter\\__init__.py\", line 1892, in __call__\n",
      "    return self.func(*args)\n",
      "TypeError: btn() takes 0 positional arguments but 1 was given\n"
     ]
    }
   ],
   "source": [
    "import tkinter\n",
    "window = tkinter.Tk()\n",
    "\n",
    "lbl  = tkinter.Label(window, text = ' name')\n",
    "lbl.place(x=10,y=30)\n",
    "\n",
    "name_input = tkinter.Entry()\n",
    "name_input.place(x=10,y=50)\n",
    "\n",
    "def btn():\n",
    "    data = name_input.get()\n",
    "    olbl['text'] = data\n",
    "\n",
    "b = tkinter.Button(window,text = 'submit')\n",
    "b.place(x=10,y=70)\n",
    "\n",
    "olbl  = tkinter.Label(window, text = '0')\n",
    "olbl.place(x=10,y=90)\n",
    "\n",
    "window.bind('b', btn )\n",
    "window.mainloop()\n"
   ]
  },
  {
   "cell_type": "code",
   "execution_count": 7,
   "metadata": {},
   "outputs": [],
   "source": [
    "import tkinter\n",
    "window =  tkinter.Tk()\n",
    "window.title('GUI')\n",
    "\n",
    "window.rowconfigure(0, minsize=50,weight = 1)\n",
    "window.columnconfigure([0,1,2], minsize = 50, weight =1)\n",
    "\n",
    "def minus(e= None):\n",
    "    val = int( value.cget('text'))\n",
    "    if val > 1:\n",
    "        val -= 1\n",
    "    value['text'] = val\n",
    "\n",
    "\n",
    "def plus(e = None):\n",
    "    val = int( value.cget('text'))\n",
    "    value['text'] = val + 1\n",
    "\n",
    "bm = tkinter.Button(window, text = '-', command = minus)\n",
    "bm.grid(row=0,column=0)\n",
    "\n",
    "value = tkinter.Label(window,text = '1')\n",
    "value.grid(row=0,column=1)\n",
    "\n",
    "bp = tkinter.Button(window, text = '+', command = plus)\n",
    "bp.grid(row=0,column=2)\n",
    "\n",
    "window.bind('-',minus)\n",
    "window.bind('+',plus)\n",
    "\n",
    "\n",
    "window.mainloop()\n",
    "\n"
   ]
  },
  {
   "cell_type": "code",
   "execution_count": 5,
   "metadata": {},
   "outputs": [],
   "source": [
    "import tkinter\n",
    "window = tkinter.Tk()\n",
    "window.title('Calculator')\n",
    "window.geometry('500x500')\n",
    "\n",
    "lb1 = tkinter.Label(window,text = 'Enter 1st Number',fg = 'red')\n",
    "lb1.place(x=10,y=10)\n",
    "\n",
    "first = tkinter.Entry()\n",
    "first.place(x=10,y=30)\n",
    "\n",
    "lb2 = tkinter.Label(window,text = 'Enter 2nd Number',fg = 'red')\n",
    "lb2.place(x=10,y=50)\n",
    "\n",
    "second = tkinter.Entry()\n",
    "second.place(x=10,y=70)\n",
    "\n",
    "def add():\n",
    "    val = int(first.get()) + int(second.get())\n",
    "    lbl['text'] = val\n",
    "    print(val)\n",
    "\n",
    "def sub():\n",
    "    val = int(first.get()) - int(second.get())\n",
    "    lbl['text'] = val\n",
    "    print(val)\n",
    "\n",
    "def mul():\n",
    "    val = int(first.get()) * int(second.get())\n",
    "    lbl['text'] = val\n",
    "    print(val)\n",
    "\n",
    "def div():\n",
    "    val = int(first.get()) / int(second.get())\n",
    "    lbl['text'] = val\n",
    "    print(val)\n",
    "\n",
    "lb2 =  tkinter.Label(window,text='Result' , fg = 'blue')\n",
    "lb2.place(x=10,y=90)\n",
    "\n",
    "lbl =  tkinter.Label(window,text='')\n",
    "lbl.place(x=10,y=110)\n",
    "\n",
    "b = tkinter.Button(window, text = 'Addition' , command = add , fg = 'green')\n",
    "b.place(x=10,y=130)\n",
    "\n",
    "c = tkinter.Button(window, text = 'Subtraction' , command = sub, fg= 'green')\n",
    "c.place(x=10,y=160)\n",
    "\n",
    "d = tkinter.Button(window, text = 'Multiplication' , command = mul, fg = 'green')\n",
    "d.place(x=10,y=190)\n",
    "\n",
    "e = tkinter.Button(window, text = 'Divide' , command = div,fg = 'green')\n",
    "e.place(x=10,y=220)\n",
    "\n",
    "window.mainloop()\n"
   ]
  },
  {
   "cell_type": "code",
   "execution_count": 12,
   "metadata": {},
   "outputs": [],
   "source": [
    "import tkinter\n",
    "window = tkinter.Tk()\n",
    "window.title('Calculator')\n",
    "\n",
    "second = tkinter.Entry()\n",
    "second.place(x=10,y=70)\n",
    "\n",
    "lbl =  tkinter.Label(window,text= '0')\n",
    "lbl.place(x=10,y=110)\n",
    "\n",
    "b = tkinter.Button(window, text = '2', command= second)\n",
    "b.place(x=10,y=130)\n",
    "\n",
    "c = tkinter.Button(window, text = '3' )\n",
    "c.place(x=10,y=160)\n",
    "\n",
    "d = tkinter.Button(window, text = '4' )\n",
    "d.place(x=10,y=190)\n",
    "\n",
    "e = tkinter.Button(window, text = '+' , command = add,fg = 'green')\n",
    "e.place(x=10,y=220)\n",
    "\n",
    "\n",
    "def add():\n",
    "    val = int(b.cget() + c.cget() + d.cget())\n",
    "    lbl['text'] = val\n",
    "    print(val)\n",
    "\n",
    "\n",
    "\n",
    "window.mainloop()\n",
    "\n",
    "    "
   ]
  },
  {
   "cell_type": "code",
   "execution_count": null,
   "metadata": {},
   "outputs": [],
   "source": []
  }
 ],
 "metadata": {
  "interpreter": {
   "hash": "a41c416edb00db33a184b65fd872d2f168ca60737b4a86cf7145697a46cd53af"
  },
  "kernelspec": {
   "display_name": "Python 3.9.7 ('base')",
   "language": "python",
   "name": "python3"
  },
  "language_info": {
   "codemirror_mode": {
    "name": "ipython",
    "version": 3
   },
   "file_extension": ".py",
   "mimetype": "text/x-python",
   "name": "python",
   "nbconvert_exporter": "python",
   "pygments_lexer": "ipython3",
   "version": "3.9.7"
  },
  "orig_nbformat": 4
 },
 "nbformat": 4,
 "nbformat_minor": 2
}
